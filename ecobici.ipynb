{
 "cells": [
  {
   "cell_type": "markdown",
   "metadata": {},
   "source": [
    "## OPEN DATA - ECOBICI\n",
    "En este notebook, realizaré un proceso de extracción de datos consultando a la API Transporte del Gobierno de la Ciudad Autónoma de Buenos Aires  sobre el estado actual de las estaciones de Ecobici (mas información en los siguientes links: [API Transporte](https://www.buenosaires.gob.ar/desarrollourbano/transporte/apitransporte), [API DOC](https://www.buenosaires.gob.ar/desarrollourbano/transporte/apitransporte/api-doc))\n",
    "Luego, dichos datos continuaré con la manipulación y transformación de dichos datos utilizando Pandas\n"
   ]
  },
  {
   "cell_type": "markdown",
   "metadata": {},
   "source": [
    "### Carga de datos\n",
    "Dicha API devuelve los datos en formato JSON"
   ]
  },
  {
   "cell_type": "code",
   "execution_count": 70,
   "metadata": {},
   "outputs": [
    {
     "data": {
      "text/plain": "200"
     },
     "execution_count": 70,
     "metadata": {},
     "output_type": "execute_result"
    }
   ],
   "source": [
    "import requests\n",
    "from pprint import pprint\n",
    "import pandas as pd\n",
    "\n",
    "\n",
    "with open(\"credenciales.txt\", \"r\") as file:\n",
    "    client_id = file.readline().rstrip()\n",
    "    client_secret = file.readline().rstrip()\n",
    "\n",
    "\n",
    "api_url = \"https://apitransporte.buenosaires.gob.ar/\" \n",
    "resource_status = \"ecobici/gbfs/stationStatus\"\n",
    "url = api_url + resource_status\n",
    "url += \"?client_id=\" + client_id\n",
    "url += \"&client_secret=\" + client_secret\n",
    "\n",
    "r = requests.get(url)\n",
    "stations_status = r.json()\n",
    "r.status_code"
   ]
  },
  {
   "cell_type": "code",
   "execution_count": 71,
   "metadata": {},
   "outputs": [
    {
     "name": "stdout",
     "output_type": "stream",
     "text": ",\n                       {'is_charging_station': False,\n                        'is_installed': 1,\n                        'is_renting': 1,\n                        'is_returning': 1,\n                        'last_reported': 1580157032,\n                        'num_bikes_available': 0,\n                        'num_bikes_available_types': {'ebike': 0,\n                                                      'mechanical': 0},\n                        'num_bikes_disabled': 0,\n                        'num_docks_available': 19,\n                        'num_docks_disabled': 0,\n                        'station_id': '414',\n                        'status': 'IN_SERVICE'},\n                       {'is_charging_station': False,\n                        'is_installed': 1,\n                        'is_renting': 1,\n                        'is_returning': 1,\n                        'last_reported': 1580157245,\n                        'num_bikes_available': 0,\n                        'num_bikes_available_types': {'ebike': 0,\n                                                      'mechanical': 0},\n                        'num_bikes_disabled': 0,\n                        'num_docks_available': 20,\n                        'num_docks_disabled': 0,\n                        'station_id': '415',\n                        'status': 'IN_SERVICE'},\n                       {'is_charging_station': False,\n                        'is_installed': 1,\n                        'is_renting': 1,\n                        'is_returning': 1,\n                        'last_reported': 1580157112,\n                        'num_bikes_available': 1,\n                        'num_bikes_available_types': {'ebike': 0,\n                                                      'mechanical': 1},\n                        'num_bikes_disabled': 0,\n                        'num_docks_available': 27,\n                        'num_docks_disabled': 0,\n                        'station_id': '416',\n                        'status': 'IN_SERVICE'},\n                       {'is_charging_station': False,\n                        'is_installed': 1,\n                        'is_renting': 1,\n                        'is_returning': 1,\n                        'last_reported': 1580157244,\n                        'num_bikes_available': 0,\n                        'num_bikes_available_types': {'ebike': 0,\n                                                      'mechanical': 0},\n                        'num_bikes_disabled': 1,\n                        'num_docks_available': 19,\n                        'num_docks_disabled': 0,\n                        'station_id': '417',\n                        'status': 'IN_SERVICE'},\n                       {'is_charging_station': False,\n                        'is_installed': 1,\n                        'is_renting': 1,\n                        'is_returning': 1,\n                        'last_reported': 1580157012,\n                        'num_bikes_available': 0,\n                        'num_bikes_available_types': {'ebike': 0,\n                                                      'mechanical': 0},\n                        'num_bikes_disabled': 2,\n                        'num_docks_available': 18,\n                        'num_docks_disabled': 1,\n                        'station_id': '418',\n                        'status': 'IN_SERVICE'},\n                       {'is_charging_station': False,\n                        'is_installed': 1,\n                        'is_renting': 1,\n                        'is_returning': 1,\n                        'last_reported': 1580157116,\n                        'num_bikes_available': 0,\n                        'num_bikes_available_types': {'ebike': 0,\n                                                      'mechanical': 0},\n                        'num_bikes_disabled': 0,\n                        'num_docks_available': 28,\n                        'num_docks_disabled': 0,\n                        'station_id': '419',\n                        'status': 'IN_SERVICE'},\n                       {'is_charging_station': False,\n                        'is_installed': 1,\n                        'is_renting': 1,\n                        'is_returning': 1,\n                        'last_reported': 1580157087,\n                        'num_bikes_available': 0,\n                        'num_bikes_available_types': {'ebike': 0,\n                                                      'mechanical': 0},\n                        'num_bikes_disabled': 0,\n                        'num_docks_available': 19,\n                        'num_docks_disabled': 0,\n                        'station_id': '420',\n                        'status': 'IN_SERVICE'},\n                       {'is_charging_station': False,\n                        'is_installed': 1,\n                        'is_renting': 1,\n                        'is_returning': 1,\n                        'last_reported': 1580157059,\n                        'num_bikes_available': 0,\n                        'num_bikes_available_types': {'ebike': 0,\n                                                      'mechanical': 0},\n                        'num_bikes_disabled': 0,\n                        'num_docks_available': 12,\n                        'num_docks_disabled': 0,\n                        'station_id': '421',\n                        'status': 'IN_SERVICE'},\n                       {'is_charging_station': False,\n                        'is_installed': 1,\n                        'is_renting': 1,\n                        'is_returning': 1,\n                        'last_reported': 1580157057,\n                        'num_bikes_available': 0,\n                        'num_bikes_available_types': {'ebike': 0,\n                                                      'mechanical': 0},\n                        'num_bikes_disabled': 0,\n                        'num_docks_available': 28,\n                        'num_docks_disabled': 0,\n                        'station_id': '422',\n                        'status': 'IN_SERVICE'},\n                       {'is_charging_station': False,\n                        'is_installed': 1,\n                        'is_renting': 1,\n                        'is_returning': 1,\n                        'last_reported': 1580156714,\n                        'num_bikes_available': 0,\n                        'num_bikes_available_types': {'ebike': 0,\n                                                      'mechanical': 0},\n                        'num_bikes_disabled': 2,\n                        'num_docks_available': 10,\n                        'num_docks_disabled': 0,\n                        'station_id': '423',\n                        'status': 'IN_SERVICE'},\n                       {'is_charging_station': False,\n                        'is_installed': 1,\n                        'is_renting': 1,\n                        'is_returning': 1,\n                        'last_reported': 1580157122,\n                        'num_bikes_available': 0,\n                        'num_bikes_available_types': {'ebike': 0,\n                                                      'mechanical': 0},\n                        'num_bikes_disabled': 1,\n                        'num_docks_available': 14,\n                        'num_docks_disabled': 0,\n                        'station_id': '424',\n                        'status': 'IN_SERVICE'},\n                       {'is_charging_station': False,\n                        'is_installed': 1,\n                        'is_renting': 1,\n                        'is_returning': 1,\n                        'last_reported': 1580157119,\n                        'num_bikes_available': 0,\n                        'num_bikes_available_types': {'ebike': 0,\n                                                      'mechanical': 0},\n                        'num_bikes_disabled': 0,\n                        'num_docks_available': 20,\n                        'num_docks_disabled': 0,\n                        'station_id': '426',\n                        'status': 'IN_SERVICE'},\n                       {'is_charging_station': False,\n                        'is_installed': 1,\n                        'is_renting': 1,\n                        'is_returning': 1,\n                        'last_reported': 1580157124,\n                        'num_bikes_available': 0,\n                        'num_bikes_available_types': {'ebike': 0,\n                                                      'mechanical': 0},\n                        'num_bikes_disabled': 0,\n                        'num_docks_available': 23,\n                        'num_docks_disabled': 0,\n                        'station_id': '427',\n                        'status': 'IN_SERVICE'},\n                       {'is_charging_station': False,\n                        'is_installed': 1,\n                        'is_renting': 1,\n                        'is_returning': 1,\n                        'last_reported': 1580157128,\n                        'num_bikes_available': 0,\n                        'num_bikes_available_types': {'ebike': 0,\n                                                      'mechanical': 0},\n                        'num_bikes_disabled': 0,\n                        'num_docks_available': 20,\n                        'num_docks_disabled': 0,\n                        'station_id': '428',\n                        'status': 'IN_SERVICE'},\n                       {'is_charging_station': False,\n                        'is_installed': 1,\n                        'is_renting': 1,\n                        'is_returning': 1,\n                        'last_reported': 1580157127,\n                        'num_bikes_available': 1,\n                        'num_bikes_available_types': {'ebike': 0,\n                                                      'mechanical': 1},\n                        'num_bikes_disabled': 3,\n                        'num_docks_available': 3,\n                        'num_docks_disabled': 0,\n                        'station_id': '429',\n                        'status': 'IN_SERVICE'},\n                       {'is_charging_station': False,\n                        'is_installed': 1,\n                        'is_renting': 1,\n                        'is_returning': 1,\n                        'last_reported': 1580157253,\n                        'num_bikes_available': 0,\n                        'num_bikes_available_types': {'ebike': 0,\n                                                      'mechanical': 0},\n                        'num_bikes_disabled': 1,\n                        'num_docks_available': 11,\n                        'num_docks_disabled': 0,\n                        'station_id': '430',\n                        'status': 'IN_SERVICE'},\n                       {'is_charging_station': False,\n                        'is_installed': 1,\n                        'is_renting': 1,\n                        'is_returning': 1,\n                        'last_reported': 1580157129,\n                        'num_bikes_available': 0,\n                        'num_bikes_available_types': {'ebike': 0,\n                                                      'mechanical': 0},\n                        'num_bikes_disabled': 2,\n                        'num_docks_available': 33,\n                        'num_docks_disabled': 0,\n                        'station_id': '431',\n                        'status': 'IN_SERVICE'},\n                       {'is_charging_station': False,\n                        'is_installed': 1,\n                        'is_renting': 1,\n                        'is_returning': 1,\n                        'last_reported': 1580157145,\n                        'num_bikes_available': 0,\n                        'num_bikes_available_types': {'ebike': 0,\n                                                      'mechanical': 0},\n                        'num_bikes_disabled': 0,\n                        'num_docks_available': 19,\n                        'num_docks_disabled': 0,\n                        'station_id': '432',\n                        'status': 'IN_SERVICE'},\n                       {'is_charging_station': False,\n                        'is_installed': 1,\n                        'is_renting': 1,\n                        'is_returning': 1,\n                        'last_reported': 1580157123,\n                        'num_bikes_available': 1,\n                        'num_bikes_available_types': {'ebike': 0,\n                                                      'mechanical': 1},\n                        'num_bikes_disabled': 0,\n                        'num_docks_available': 19,\n                        'num_docks_disabled': 0,\n                        'station_id': '433',\n                        'status': 'IN_SERVICE'},\n                       {'is_charging_station': False,\n                        'is_installed': 1,\n                        'is_renting': 1,\n                        'is_returning': 1,\n                        'last_reported': 1580157069,\n                        'num_bikes_available': 0,\n                        'num_bikes_available_types': {'ebike': 0,\n                                                      'mechanical': 0},\n                        'num_bikes_disabled': 3,\n                        'num_docks_available': 9,\n                        'num_docks_disabled': 0,\n                        'station_id': '434',\n                        'status': 'IN_SERVICE'},\n                       {'is_charging_station': False,\n                        'is_installed': 1,\n                        'is_renting': 1,\n                        'is_returning': 1,\n                        'last_reported': 1580156998,\n                        'num_bikes_available': 1,\n                        'num_bikes_available_types': {'ebike': 0,\n                                                      'mechanical': 1},\n                        'num_bikes_disabled': 1,\n                        'num_docks_available': 14,\n                        'num_docks_disabled': 0,\n                        'station_id': '435',\n                        'status': 'IN_SERVICE'},\n                       {'is_charging_station': False,\n                        'is_installed': 1,\n                        'is_renting': 1,\n                        'is_returning': 1,\n                        'last_reported': 1580157050,\n                        'num_bikes_available': 0,\n                        'num_bikes_available_types': {'ebike': 0,\n                                                      'mechanical': 0},\n                        'num_bikes_disabled': 0,\n                        'num_docks_available': 28,\n                        'num_docks_disabled': 0,\n                        'station_id': '436',\n                        'status': 'IN_SERVICE'},\n                       {'is_charging_station': False,\n                        'is_installed': 1,\n                        'is_renting': 1,\n                        'is_returning': 1,\n                        'last_reported': 1580157213,\n                        'num_bikes_available': 0,\n                        'num_bikes_available_types': {'ebike': 0,\n                                                      'mechanical': 0},\n                        'num_bikes_disabled': 1,\n                        'num_docks_available': 18,\n                        'num_docks_disabled': 0,\n                        'station_id': '441',\n                        'status': 'IN_SERVICE'},\n                       {'is_charging_station': False,\n                        'is_installed': 1,\n                        'is_renting': 1,\n                        'is_returning': 1,\n                        'last_reported': 1580157048,\n                        'num_bikes_available': 0,\n                        'num_bikes_available_types': {'ebike': 0,\n                                                      'mechanical': 0},\n                        'num_bikes_disabled': 1,\n                        'num_docks_available': 14,\n                        'num_docks_disabled': 0,\n                        'station_id': '442',\n                        'status': 'IN_SERVICE'},\n                       {'is_charging_station': False,\n                        'is_installed': 1,\n                        'is_renting': 1,\n                        'is_returning': 1,\n                        'last_reported': 1580157086,\n                        'num_bikes_available': 0,\n                        'num_bikes_available_types': {'ebike': 0,\n                                                      'mechanical': 0},\n                        'num_bikes_disabled': 1,\n                        'num_docks_available': 17,\n                        'num_docks_disabled': 0,\n                        'station_id': '443',\n                        'status': 'IN_SERVICE'},\n                       {'is_charging_station': False,\n                        'is_installed': 1,\n                        'is_renting': 1,\n                        'is_returning': 1,\n                        'last_reported': 1580157170,\n                        'num_bikes_available': 0,\n                        'num_bikes_available_types': {'ebike': 0,\n                                                      'mechanical': 0},\n                        'num_bikes_disabled': 1,\n                        'num_docks_available': 23,\n                        'num_docks_disabled': 1,\n                        'station_id': '444',\n                        'status': 'IN_SERVICE'},\n                       {'is_charging_station': False,\n                        'is_installed': 1,\n                        'is_renting': 1,\n                        'is_returning': 1,\n                        'last_reported': 1580157213,\n                        'num_bikes_available': 1,\n                        'num_bikes_available_types': {'ebike': 0,\n                                                      'mechanical': 1},\n                        'num_bikes_disabled': 1,\n                        'num_docks_available': 21,\n                        'num_docks_disabled': 2,\n                        'station_id': '448',\n                        'status': 'IN_SERVICE'},\n                       {'is_charging_station': False,\n                        'is_installed': 1,\n                        'is_renting': 1,\n                        'is_returning': 1,\n                        'last_reported': 1580157101,\n                        'num_bikes_available': 1,\n                        'num_bikes_available_types': {'ebike': 0,\n                                                      'mechanical': 1},\n                        'num_bikes_disabled': 2,\n                        'num_docks_available': 21,\n                        'num_docks_disabled': 0,\n                        'station_id': '449',\n                        'status': 'IN_SERVICE'},\n                       {'is_charging_station': False,\n                        'is_installed': 1,\n                        'is_renting': 1,\n                        'is_returning': 1,\n                        'last_reported': 1567199965,\n                        'num_bikes_available': 198,\n                        'num_bikes_available_types': {'ebike': 99,\n                                                      'mechanical': 99},\n                        'num_bikes_disabled': 0,\n                        'num_docks_available': 99,\n                        'num_docks_disabled': 0,\n                        'station_id': '450',\n                        'status': 'IN_SERVICE'},\n                       {'is_charging_station': False,\n                        'is_installed': 1,\n                        'is_renting': 1,\n                        'is_returning': 1,\n                        'last_reported': 1568241592,\n                        'num_bikes_available': 198,\n                        'num_bikes_available_types': {'ebike': 99,\n                                                      'mechanical': 99},\n                        'num_bikes_disabled': 0,\n                        'num_docks_available': 99,\n                        'num_docks_disabled': 0,\n                        'station_id': '451',\n                        'status': 'IN_SERVICE'}]},\n 'last_updated': 1580157265,\n 'ttl': 4}\n"
    }
   ],
   "source": [
    "pprint(stations_status)"
   ]
  },
  {
   "cell_type": "markdown",
   "metadata": {},
   "source": [
    "Los datos sobre las estaciones son accedidos con la claves \"data\" y luego con \"stations\" para obtener una lista de JSON objects donde cada elemento es una estación determinada."
   ]
  },
  {
   "cell_type": "code",
   "execution_count": 72,
   "metadata": {},
   "outputs": [
    {
     "name": "stdout",
     "output_type": "stream",
     "text": "{'is_charging_station': False,\n 'is_installed': 1,\n 'is_renting': 1,\n 'is_returning': 1,\n 'last_reported': 1580157134,\n 'num_bikes_available': 0,\n 'num_bikes_available_types': {'ebike': 0, 'mechanical': 0},\n 'num_bikes_disabled': 1,\n 'num_docks_available': 19,\n 'num_docks_disabled': 0,\n 'station_id': '2',\n 'status': 'IN_SERVICE'}\n"
    }
   ],
   "source": [
    "pprint(stations_status[\"data\"][\"stations\"][0])"
   ]
  },
  {
   "cell_type": "code",
   "execution_count": 73,
   "metadata": {},
   "outputs": [
    {
     "data": {
      "text/html": "<div>\n<style scoped>\n    .dataframe tbody tr th:only-of-type {\n        vertical-align: middle;\n    }\n\n    .dataframe tbody tr th {\n        vertical-align: top;\n    }\n\n    .dataframe thead th {\n        text-align: right;\n    }\n</style>\n<table border=\"1\" class=\"dataframe\">\n  <thead>\n    <tr style=\"text-align: right;\">\n      <th></th>\n      <th>station_id</th>\n      <th>num_bikes_available</th>\n      <th>num_bikes_available_types</th>\n      <th>num_bikes_disabled</th>\n      <th>num_docks_available</th>\n      <th>num_docks_disabled</th>\n      <th>is_installed</th>\n      <th>is_renting</th>\n      <th>is_returning</th>\n      <th>last_reported</th>\n      <th>is_charging_station</th>\n      <th>status</th>\n    </tr>\n  </thead>\n  <tbody>\n    <tr>\n      <th>0</th>\n      <td>2</td>\n      <td>0</td>\n      <td>{'mechanical': 0, 'ebike': 0}</td>\n      <td>1</td>\n      <td>19</td>\n      <td>0</td>\n      <td>1</td>\n      <td>1</td>\n      <td>1</td>\n      <td>1580157134</td>\n      <td>False</td>\n      <td>IN_SERVICE</td>\n    </tr>\n    <tr>\n      <th>1</th>\n      <td>3</td>\n      <td>0</td>\n      <td>{'mechanical': 0, 'ebike': 0}</td>\n      <td>2</td>\n      <td>18</td>\n      <td>0</td>\n      <td>1</td>\n      <td>1</td>\n      <td>1</td>\n      <td>1580157198</td>\n      <td>False</td>\n      <td>IN_SERVICE</td>\n    </tr>\n    <tr>\n      <th>2</th>\n      <td>4</td>\n      <td>0</td>\n      <td>{'mechanical': 0, 'ebike': 0}</td>\n      <td>0</td>\n      <td>20</td>\n      <td>1</td>\n      <td>1</td>\n      <td>1</td>\n      <td>1</td>\n      <td>1580157025</td>\n      <td>False</td>\n      <td>IN_SERVICE</td>\n    </tr>\n    <tr>\n      <th>3</th>\n      <td>5</td>\n      <td>0</td>\n      <td>{'mechanical': 0, 'ebike': 0}</td>\n      <td>2</td>\n      <td>38</td>\n      <td>0</td>\n      <td>1</td>\n      <td>1</td>\n      <td>1</td>\n      <td>1580157183</td>\n      <td>False</td>\n      <td>IN_SERVICE</td>\n    </tr>\n    <tr>\n      <th>4</th>\n      <td>6</td>\n      <td>0</td>\n      <td>{'mechanical': 0, 'ebike': 0}</td>\n      <td>1</td>\n      <td>19</td>\n      <td>0</td>\n      <td>1</td>\n      <td>1</td>\n      <td>1</td>\n      <td>1580157083</td>\n      <td>False</td>\n      <td>IN_SERVICE</td>\n    </tr>\n  </tbody>\n</table>\n</div>",
      "text/plain": "  station_id  num_bikes_available      num_bikes_available_types  \\\n0          2                    0  {'mechanical': 0, 'ebike': 0}   \n1          3                    0  {'mechanical': 0, 'ebike': 0}   \n2          4                    0  {'mechanical': 0, 'ebike': 0}   \n3          5                    0  {'mechanical': 0, 'ebike': 0}   \n4          6                    0  {'mechanical': 0, 'ebike': 0}   \n\n   num_bikes_disabled  num_docks_available  num_docks_disabled  is_installed  \\\n0                   1                   19                   0             1   \n1                   2                   18                   0             1   \n2                   0                   20                   1             1   \n3                   2                   38                   0             1   \n4                   1                   19                   0             1   \n\n   is_renting  is_returning  last_reported  is_charging_station      status  \n0           1             1     1580157134                False  IN_SERVICE  \n1           1             1     1580157198                False  IN_SERVICE  \n2           1             1     1580157025                False  IN_SERVICE  \n3           1             1     1580157183                False  IN_SERVICE  \n4           1             1     1580157083                False  IN_SERVICE  "
     },
     "execution_count": 73,
     "metadata": {},
     "output_type": "execute_result"
    }
   ],
   "source": [
    "# Carga de dichos datos en un Dataframe\n",
    "df_stations = pd.DataFrame(stations_status[\"data\"][\"stations\"])\n",
    "df_stations.head()"
   ]
  },
  {
   "cell_type": "markdown",
   "metadata": {},
   "source": [
    "### Manipulación - Transformación"
   ]
  },
  {
   "cell_type": "code",
   "execution_count": 74,
   "metadata": {},
   "outputs": [
    {
     "name": "stdout",
     "output_type": "stream",
     "text": "<class 'pandas.core.frame.DataFrame'>\nRangeIndex: 396 entries, 0 to 395\nData columns (total 12 columns):\nstation_id                   396 non-null object\nnum_bikes_available          396 non-null int64\nnum_bikes_available_types    396 non-null object\nnum_bikes_disabled           396 non-null int64\nnum_docks_available          396 non-null int64\nnum_docks_disabled           396 non-null int64\nis_installed                 396 non-null int64\nis_renting                   396 non-null int64\nis_returning                 396 non-null int64\nlast_reported                396 non-null int64\nis_charging_station          396 non-null bool\nstatus                       396 non-null object\ndtypes: bool(1), int64(8), object(3)\nmemory usage: 34.5+ KB\n"
    }
   ],
   "source": [
    "df_stations.info()"
   ]
  },
  {
   "cell_type": "markdown",
   "metadata": {},
   "source": [
    "Algunas columnas requieren un cambio en su tipo de datos"
   ]
  },
  {
   "cell_type": "code",
   "execution_count": 75,
   "metadata": {},
   "outputs": [
    {
     "name": "stdout",
     "output_type": "stream",
     "text": "<class 'pandas.core.frame.DataFrame'>\nRangeIndex: 396 entries, 0 to 395\nData columns (total 12 columns):\nstation_id                   396 non-null int64\nnum_bikes_available          396 non-null int64\nnum_bikes_available_types    396 non-null object\nnum_bikes_disabled           396 non-null int64\nnum_docks_available          396 non-null int64\nnum_docks_disabled           396 non-null int64\nis_installed                 396 non-null bool\nis_renting                   396 non-null bool\nis_returning                 396 non-null bool\nlast_reported                396 non-null int64\nis_charging_station          396 non-null bool\nstatus                       396 non-null object\ndtypes: bool(4), int64(6), object(2)\nmemory usage: 26.4+ KB\n"
    }
   ],
   "source": [
    "def change_type_column(df, **kwargs):\n",
    "    \"\"\"\n",
    "    Función para convertir el tipo de datos de una columna\n",
    "    donde cada nombre de los parámetros a pasar será una columna\n",
    "    del DataFrame y su respectivo valor será el nuevo tipo de dato\n",
    "    para esa columna.\n",
    "    Retorna el mismo DataFrame con las columnas con sus nuevos tipos\n",
    "    de datos\n",
    "    \"\"\"\n",
    "    for col, a_type in kwargs.items():\n",
    "        df[col] = df[col].astype(a_type)\n",
    "    return df\n",
    "\n",
    "\n",
    "df_stations = change_type_column(df_stations, \n",
    "                                 station_id='int64', \n",
    "                                 is_returning='bool', \n",
    "                                 is_renting='bool', \n",
    "                                 is_installed='bool')\n",
    "df_stations.info()"
   ]
  },
  {
   "cell_type": "markdown",
   "metadata": {},
   "source": [
    "Es necesario realizar una separación de los datos que contiene la columna \"num_bikes_available_types\" para una mejor representación de los mismos."
   ]
  },
  {
   "cell_type": "code",
   "execution_count": 76,
   "metadata": {},
   "outputs": [
    {
     "data": {
      "text/html": "<div>\n<style scoped>\n    .dataframe tbody tr th:only-of-type {\n        vertical-align: middle;\n    }\n\n    .dataframe tbody tr th {\n        vertical-align: top;\n    }\n\n    .dataframe thead th {\n        text-align: right;\n    }\n</style>\n<table border=\"1\" class=\"dataframe\">\n  <thead>\n    <tr style=\"text-align: right;\">\n      <th></th>\n      <th>num_mechanical_bikes_available</th>\n      <th>num_ebikes_available</th>\n    </tr>\n  </thead>\n  <tbody>\n    <tr>\n      <th>0</th>\n      <td>0</td>\n      <td>0</td>\n    </tr>\n    <tr>\n      <th>1</th>\n      <td>0</td>\n      <td>0</td>\n    </tr>\n    <tr>\n      <th>2</th>\n      <td>0</td>\n      <td>0</td>\n    </tr>\n    <tr>\n      <th>3</th>\n      <td>0</td>\n      <td>0</td>\n    </tr>\n    <tr>\n      <th>4</th>\n      <td>0</td>\n      <td>0</td>\n    </tr>\n  </tbody>\n</table>\n</div>",
      "text/plain": "   num_mechanical_bikes_available  num_ebikes_available\n0                               0                     0\n1                               0                     0\n2                               0                     0\n3                               0                     0\n4                               0                     0"
     },
     "execution_count": 76,
     "metadata": {},
     "output_type": "execute_result"
    }
   ],
   "source": [
    "df_stations[\"num_mechanical_bikes_available\"] = df_stations[\"num_bikes_available_types\"].apply(lambda s : s[\"mechanical\"])\n",
    "df_stations[\"num_ebikes_available\"] = df_stations[\"num_bikes_available_types\"].apply(lambda s : s[\"ebike\"])\n",
    "df_stations = df_stations.drop(\"num_bikes_available_types\", axis=1)\n",
    "df_stations[[\"num_mechanical_bikes_available\", \"num_ebikes_available\"]].head()"
   ]
  },
  {
   "cell_type": "markdown",
   "metadata": {},
   "source": [
    "Se crea un nuevo dataframe sobre las estaciones y su información como ubicación, nombre, etc.\n",
    "El archivo en cuestión, ecobici_info.csv, se obtuvo en base al notebook ecobici_info."
   ]
  },
  {
   "cell_type": "code",
   "execution_count": 77,
   "metadata": {},
   "outputs": [
    {
     "data": {
      "text/html": "<div>\n<style scoped>\n    .dataframe tbody tr th:only-of-type {\n        vertical-align: middle;\n    }\n\n    .dataframe tbody tr th {\n        vertical-align: top;\n    }\n\n    .dataframe thead th {\n        text-align: right;\n    }\n</style>\n<table border=\"1\" class=\"dataframe\">\n  <thead>\n    <tr style=\"text-align: right;\">\n      <th></th>\n      <th>station_id</th>\n      <th>name</th>\n      <th>address</th>\n      <th>capacity</th>\n    </tr>\n  </thead>\n  <tbody>\n    <tr>\n      <th>0</th>\n      <td>2</td>\n      <td>002 - Retiro I</td>\n      <td>Ramos Mejia, Jose Maria, Dr. Av. &amp; Del Liberta...</td>\n      <td>20</td>\n    </tr>\n    <tr>\n      <th>1</th>\n      <td>3</td>\n      <td>003 - ADUANA</td>\n      <td>Moreno &amp; Av Paseo Colon</td>\n      <td>20</td>\n    </tr>\n    <tr>\n      <th>2</th>\n      <td>4</td>\n      <td>004 - Plaza Roma</td>\n      <td>Lavalle &amp; Bouchard</td>\n      <td>20</td>\n    </tr>\n    <tr>\n      <th>3</th>\n      <td>5</td>\n      <td>005 - Plaza Italia</td>\n      <td>Av. Sarmiento 2601</td>\n      <td>40</td>\n    </tr>\n    <tr>\n      <th>4</th>\n      <td>6</td>\n      <td>006 - Parque Lezama</td>\n      <td>Avenida Martin Garcia, 295</td>\n      <td>20</td>\n    </tr>\n  </tbody>\n</table>\n</div>",
      "text/plain": "   station_id                 name  \\\n0           2       002 - Retiro I   \n1           3         003 - ADUANA   \n2           4     004 - Plaza Roma   \n3           5   005 - Plaza Italia   \n4           6  006 - Parque Lezama   \n\n                                             address  capacity  \n0  Ramos Mejia, Jose Maria, Dr. Av. & Del Liberta...        20  \n1                            Moreno & Av Paseo Colon        20  \n2                                 Lavalle & Bouchard        20  \n3                                 Av. Sarmiento 2601        40  \n4                         Avenida Martin Garcia, 295        20  "
     },
     "execution_count": 77,
     "metadata": {},
     "output_type": "execute_result"
    }
   ],
   "source": [
    "df_stations_info = pd.read_csv('ecobici_info.csv')\n",
    "df_stations_info.head()"
   ]
  },
  {
   "cell_type": "code",
   "execution_count": 78,
   "metadata": {},
   "outputs": [
    {
     "name": "stdout",
     "output_type": "stream",
     "text": "<class 'pandas.core.frame.DataFrame'>\nRangeIndex: 379 entries, 0 to 378\nData columns (total 4 columns):\nstation_id    379 non-null int64\nname          379 non-null object\naddress       379 non-null object\ncapacity      379 non-null int64\ndtypes: int64(2), object(2)\nmemory usage: 12.0+ KB\n"
    }
   ],
   "source": [
    "df_stations_info.info()"
   ]
  },
  {
   "cell_type": "code",
   "execution_count": 79,
   "metadata": {},
   "outputs": [
    {
     "data": {
      "text/html": "<div>\n<style scoped>\n    .dataframe tbody tr th:only-of-type {\n        vertical-align: middle;\n    }\n\n    .dataframe tbody tr th {\n        vertical-align: top;\n    }\n\n    .dataframe thead th {\n        text-align: right;\n    }\n</style>\n<table border=\"1\" class=\"dataframe\">\n  <thead>\n    <tr style=\"text-align: right;\">\n      <th></th>\n      <th>station_id</th>\n      <th>name</th>\n      <th>address</th>\n      <th>capacity</th>\n      <th>num_bikes_available</th>\n      <th>num_bikes_disabled</th>\n      <th>num_docks_available</th>\n      <th>num_docks_disabled</th>\n      <th>is_installed</th>\n      <th>is_renting</th>\n      <th>is_returning</th>\n      <th>last_reported</th>\n      <th>is_charging_station</th>\n      <th>status</th>\n      <th>num_mechanical_bikes_available</th>\n      <th>num_ebikes_available</th>\n    </tr>\n  </thead>\n  <tbody>\n    <tr>\n      <th>0</th>\n      <td>2</td>\n      <td>002 - Retiro I</td>\n      <td>Ramos Mejia, Jose Maria, Dr. Av. &amp; Del Liberta...</td>\n      <td>20</td>\n      <td>0</td>\n      <td>1</td>\n      <td>19</td>\n      <td>0</td>\n      <td>True</td>\n      <td>True</td>\n      <td>True</td>\n      <td>1580157134</td>\n      <td>False</td>\n      <td>IN_SERVICE</td>\n      <td>0</td>\n      <td>0</td>\n    </tr>\n    <tr>\n      <th>1</th>\n      <td>3</td>\n      <td>003 - ADUANA</td>\n      <td>Moreno &amp; Av Paseo Colon</td>\n      <td>20</td>\n      <td>0</td>\n      <td>2</td>\n      <td>18</td>\n      <td>0</td>\n      <td>True</td>\n      <td>True</td>\n      <td>True</td>\n      <td>1580157198</td>\n      <td>False</td>\n      <td>IN_SERVICE</td>\n      <td>0</td>\n      <td>0</td>\n    </tr>\n    <tr>\n      <th>2</th>\n      <td>4</td>\n      <td>004 - Plaza Roma</td>\n      <td>Lavalle &amp; Bouchard</td>\n      <td>20</td>\n      <td>0</td>\n      <td>0</td>\n      <td>20</td>\n      <td>1</td>\n      <td>True</td>\n      <td>True</td>\n      <td>True</td>\n      <td>1580157025</td>\n      <td>False</td>\n      <td>IN_SERVICE</td>\n      <td>0</td>\n      <td>0</td>\n    </tr>\n    <tr>\n      <th>3</th>\n      <td>5</td>\n      <td>005 - Plaza Italia</td>\n      <td>Av. Sarmiento 2601</td>\n      <td>40</td>\n      <td>0</td>\n      <td>2</td>\n      <td>38</td>\n      <td>0</td>\n      <td>True</td>\n      <td>True</td>\n      <td>True</td>\n      <td>1580157183</td>\n      <td>False</td>\n      <td>IN_SERVICE</td>\n      <td>0</td>\n      <td>0</td>\n    </tr>\n    <tr>\n      <th>4</th>\n      <td>6</td>\n      <td>006 - Parque Lezama</td>\n      <td>Avenida Martin Garcia, 295</td>\n      <td>20</td>\n      <td>0</td>\n      <td>1</td>\n      <td>19</td>\n      <td>0</td>\n      <td>True</td>\n      <td>True</td>\n      <td>True</td>\n      <td>1580157083</td>\n      <td>False</td>\n      <td>IN_SERVICE</td>\n      <td>0</td>\n      <td>0</td>\n    </tr>\n  </tbody>\n</table>\n</div>",
      "text/plain": "   station_id                 name  \\\n0           2       002 - Retiro I   \n1           3         003 - ADUANA   \n2           4     004 - Plaza Roma   \n3           5   005 - Plaza Italia   \n4           6  006 - Parque Lezama   \n\n                                             address  capacity  \\\n0  Ramos Mejia, Jose Maria, Dr. Av. & Del Liberta...        20   \n1                            Moreno & Av Paseo Colon        20   \n2                                 Lavalle & Bouchard        20   \n3                                 Av. Sarmiento 2601        40   \n4                         Avenida Martin Garcia, 295        20   \n\n   num_bikes_available  num_bikes_disabled  num_docks_available  \\\n0                    0                   1                   19   \n1                    0                   2                   18   \n2                    0                   0                   20   \n3                    0                   2                   38   \n4                    0                   1                   19   \n\n   num_docks_disabled  is_installed  is_renting  is_returning  last_reported  \\\n0                   0          True        True          True     1580157134   \n1                   0          True        True          True     1580157198   \n2                   1          True        True          True     1580157025   \n3                   0          True        True          True     1580157183   \n4                   0          True        True          True     1580157083   \n\n   is_charging_station      status  num_mechanical_bikes_available  \\\n0                False  IN_SERVICE                               0   \n1                False  IN_SERVICE                               0   \n2                False  IN_SERVICE                               0   \n3                False  IN_SERVICE                               0   \n4                False  IN_SERVICE                               0   \n\n   num_ebikes_available  \n0                     0  \n1                     0  \n2                     0  \n3                     0  \n4                     0  "
     },
     "execution_count": 79,
     "metadata": {},
     "output_type": "execute_result"
    }
   ],
   "source": [
    "# Agregamos nuevas columnas al 1er dataframe realizando un merge con el df con info de las estaciones\n",
    "df_stations.set_index('station_id', inplace=True)\n",
    "df_stations = df_stations_info.join(df_stations, on='station_id', how='inner')\n",
    "df_stations.head()"
   ]
  },
  {
   "cell_type": "markdown",
   "metadata": {},
   "source": [
    "Cada vez que se ejecute por completo dicho notebook, se agregarán nuevas filas al archivo ecobici.csv"
   ]
  },
  {
   "cell_type": "code",
   "execution_count": 80,
   "metadata": {},
   "outputs": [],
   "source": [
    "df_stations.to_csv('ecobici.csv', index=False, mode='a+')"
   ]
  },
  {
   "cell_type": "markdown",
   "metadata": {},
   "source": [
    "De esta forma, se obtuvo un simple dataset sobre el estado de las estaciones de Ecobici.\n",
    "Queda pendiente automatizar todo este proceso para ejecutarlo por ejemplo durante toda una semana en un rango horario específico a intervalos de una hora y así ir actualizando dicho dataset."
   ]
  }
 ],
 "metadata": {
  "kernelspec": {
   "display_name": "Python 3.6.10 64-bit ('dataeng': conda)",
   "language": "python",
   "name": "python361064bitdataengcondaa0181e076a444d209a9f2cf069994534"
  },
  "language_info": {
   "codemirror_mode": {
    "name": "ipython",
    "version": 3
   },
   "file_extension": ".py",
   "mimetype": "text/x-python",
   "name": "python",
   "nbconvert_exporter": "python",
   "pygments_lexer": "ipython3",
   "version": "3.6.10-final"
  }
 },
 "nbformat": 4,
 "nbformat_minor": 4
}