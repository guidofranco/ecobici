{
 "cells": [
  {
   "cell_type": "markdown",
   "metadata": {},
   "source": [
    "## Datos sobre las estaciones Ecobici"
   ]
  },
  {
   "cell_type": "code",
   "execution_count": 2,
   "metadata": {},
   "outputs": [
    {
     "data": {
      "text/plain": [
       "200"
      ]
     },
     "execution_count": 2,
     "metadata": {},
     "output_type": "execute_result"
    }
   ],
   "source": [
    "import requests\n",
    "from pprint import pprint\n",
    "import pandas as pd\n",
    "\n",
    "\n",
    "with open(\"credenciales.txt\", \"r\") as file:\n",
    "    client_id = file.readline().rstrip()\n",
    "    client_secret = file.readline().rstrip()\n",
    "\n",
    "\n",
    "api_url = \"https://apitransporte.buenosaires.gob.ar/\" \n",
    "resource_info = \"ecobici/gbfs/stationInformation\"\n",
    "url = api_url + resource_info\n",
    "url += \"?client_id=\" + client_id\n",
    "url += \"&client_secret=\" + client_secret\n",
    "r = requests.get(url)\n",
    "stations_info = r.json()\n",
    "r.status_code"
   ]
  },
  {
   "cell_type": "code",
   "execution_count": 3,
   "metadata": {},
   "outputs": [
    {
     "data": {
      "text/plain": [
       "{'station_id': '2',\n",
       " 'name': '002 - Retiro I',\n",
       " 'physical_configuration': 'SMARTLITMAPFRAME',\n",
       " 'lat': -34.5924233,\n",
       " 'lon': -58.3747151,\n",
       " 'altitude': 0.0,\n",
       " 'address': 'Ramos Mejia, Jose Maria, Dr. Av. & Del Libertador Av.',\n",
       " 'post_code': '11111',\n",
       " 'capacity': 20,\n",
       " 'rental_methods': ['KEY', 'TRANSITCARD', 'PHONE'],\n",
       " 'groups': ['RETIRO'],\n",
       " 'obcn': '',\n",
       " 'nearby_distance': 1000.0}"
      ]
     },
     "execution_count": 3,
     "metadata": {},
     "output_type": "execute_result"
    }
   ],
   "source": [
    "stations_info['data']['stations'][0]"
   ]
  },
  {
   "cell_type": "code",
   "execution_count": 4,
   "metadata": {},
   "outputs": [
    {
     "data": {
      "text/html": [
       "<div>\n",
       "<style scoped>\n",
       "    .dataframe tbody tr th:only-of-type {\n",
       "        vertical-align: middle;\n",
       "    }\n",
       "\n",
       "    .dataframe tbody tr th {\n",
       "        vertical-align: top;\n",
       "    }\n",
       "\n",
       "    .dataframe thead th {\n",
       "        text-align: right;\n",
       "    }\n",
       "</style>\n",
       "<table border=\"1\" class=\"dataframe\">\n",
       "  <thead>\n",
       "    <tr style=\"text-align: right;\">\n",
       "      <th></th>\n",
       "      <th>station_id</th>\n",
       "      <th>name</th>\n",
       "      <th>physical_configuration</th>\n",
       "      <th>lat</th>\n",
       "      <th>lon</th>\n",
       "      <th>altitude</th>\n",
       "      <th>address</th>\n",
       "      <th>post_code</th>\n",
       "      <th>capacity</th>\n",
       "      <th>rental_methods</th>\n",
       "      <th>groups</th>\n",
       "      <th>obcn</th>\n",
       "      <th>nearby_distance</th>\n",
       "      <th>cross_street</th>\n",
       "    </tr>\n",
       "  </thead>\n",
       "  <tbody>\n",
       "    <tr>\n",
       "      <th>0</th>\n",
       "      <td>2</td>\n",
       "      <td>002 - Retiro I</td>\n",
       "      <td>SMARTLITMAPFRAME</td>\n",
       "      <td>-34.592423</td>\n",
       "      <td>-58.374715</td>\n",
       "      <td>0.0</td>\n",
       "      <td>Ramos Mejia, Jose Maria, Dr. Av. &amp; Del Liberta...</td>\n",
       "      <td>11111</td>\n",
       "      <td>20</td>\n",
       "      <td>[KEY, TRANSITCARD, PHONE]</td>\n",
       "      <td>[RETIRO]</td>\n",
       "      <td></td>\n",
       "      <td>1000.0</td>\n",
       "      <td>NaN</td>\n",
       "    </tr>\n",
       "    <tr>\n",
       "      <th>1</th>\n",
       "      <td>3</td>\n",
       "      <td>003 - ADUANA</td>\n",
       "      <td>SMARTLITMAPFRAME</td>\n",
       "      <td>-34.611032</td>\n",
       "      <td>-58.368260</td>\n",
       "      <td>0.0</td>\n",
       "      <td>Moreno &amp; Av Paseo Colon</td>\n",
       "      <td>11111</td>\n",
       "      <td>20</td>\n",
       "      <td>[KEY, TRANSITCARD, PHONE]</td>\n",
       "      <td>[MONSERRAT]</td>\n",
       "      <td>NaN</td>\n",
       "      <td>1000.0</td>\n",
       "      <td>Moreno &amp; Av Paseo Colon</td>\n",
       "    </tr>\n",
       "    <tr>\n",
       "      <th>2</th>\n",
       "      <td>4</td>\n",
       "      <td>004 - Plaza Roma</td>\n",
       "      <td>SMARTLITMAPFRAME</td>\n",
       "      <td>-34.601726</td>\n",
       "      <td>-58.368763</td>\n",
       "      <td>0.0</td>\n",
       "      <td>Lavalle &amp; Bouchard</td>\n",
       "      <td>11111</td>\n",
       "      <td>20</td>\n",
       "      <td>[KEY, TRANSITCARD, PHONE]</td>\n",
       "      <td>[SAN NICOLAS]</td>\n",
       "      <td></td>\n",
       "      <td>1000.0</td>\n",
       "      <td>NaN</td>\n",
       "    </tr>\n",
       "    <tr>\n",
       "      <th>3</th>\n",
       "      <td>5</td>\n",
       "      <td>005 - Plaza Italia</td>\n",
       "      <td>SMARTLITMAPFRAME</td>\n",
       "      <td>-34.580550</td>\n",
       "      <td>-58.420954</td>\n",
       "      <td>0.0</td>\n",
       "      <td>Av. Sarmiento 2601</td>\n",
       "      <td>1111</td>\n",
       "      <td>40</td>\n",
       "      <td>[KEY, TRANSITCARD, PHONE]</td>\n",
       "      <td>[PALERMO]</td>\n",
       "      <td></td>\n",
       "      <td>1000.0</td>\n",
       "      <td>NaN</td>\n",
       "    </tr>\n",
       "    <tr>\n",
       "      <th>4</th>\n",
       "      <td>6</td>\n",
       "      <td>006 - Parque Lezama</td>\n",
       "      <td>SMARTLITMAPFRAME</td>\n",
       "      <td>-34.628526</td>\n",
       "      <td>-58.369758</td>\n",
       "      <td>0.0</td>\n",
       "      <td>Avenida Martin Garcia, 295</td>\n",
       "      <td>1111</td>\n",
       "      <td>20</td>\n",
       "      <td>[KEY, TRANSITCARD, PHONE]</td>\n",
       "      <td>[SAN TELMO]</td>\n",
       "      <td></td>\n",
       "      <td>1000.0</td>\n",
       "      <td>NaN</td>\n",
       "    </tr>\n",
       "  </tbody>\n",
       "</table>\n",
       "</div>"
      ],
      "text/plain": [
       "  station_id                 name physical_configuration        lat  \\\n",
       "0          2       002 - Retiro I       SMARTLITMAPFRAME -34.592423   \n",
       "1          3         003 - ADUANA       SMARTLITMAPFRAME -34.611032   \n",
       "2          4     004 - Plaza Roma       SMARTLITMAPFRAME -34.601726   \n",
       "3          5   005 - Plaza Italia       SMARTLITMAPFRAME -34.580550   \n",
       "4          6  006 - Parque Lezama       SMARTLITMAPFRAME -34.628526   \n",
       "\n",
       "         lon  altitude                                            address  \\\n",
       "0 -58.374715       0.0  Ramos Mejia, Jose Maria, Dr. Av. & Del Liberta...   \n",
       "1 -58.368260       0.0                            Moreno & Av Paseo Colon   \n",
       "2 -58.368763       0.0                                 Lavalle & Bouchard   \n",
       "3 -58.420954       0.0                                 Av. Sarmiento 2601   \n",
       "4 -58.369758       0.0                         Avenida Martin Garcia, 295   \n",
       "\n",
       "  post_code  capacity             rental_methods         groups obcn  \\\n",
       "0     11111        20  [KEY, TRANSITCARD, PHONE]       [RETIRO]        \n",
       "1     11111        20  [KEY, TRANSITCARD, PHONE]    [MONSERRAT]  NaN   \n",
       "2     11111        20  [KEY, TRANSITCARD, PHONE]  [SAN NICOLAS]        \n",
       "3      1111        40  [KEY, TRANSITCARD, PHONE]      [PALERMO]        \n",
       "4      1111        20  [KEY, TRANSITCARD, PHONE]    [SAN TELMO]        \n",
       "\n",
       "   nearby_distance             cross_street  \n",
       "0           1000.0                      NaN  \n",
       "1           1000.0  Moreno & Av Paseo Colon  \n",
       "2           1000.0                      NaN  \n",
       "3           1000.0                      NaN  \n",
       "4           1000.0                      NaN  "
      ]
     },
     "execution_count": 4,
     "metadata": {},
     "output_type": "execute_result"
    }
   ],
   "source": [
    "df_stations_info = pd.DataFrame(stations_info[\"data\"][\"stations\"])\n",
    "df_stations_info.head()"
   ]
  },
  {
   "cell_type": "code",
   "execution_count": 5,
   "metadata": {},
   "outputs": [
    {
     "data": {
      "text/html": [
       "<div>\n",
       "<style scoped>\n",
       "    .dataframe tbody tr th:only-of-type {\n",
       "        vertical-align: middle;\n",
       "    }\n",
       "\n",
       "    .dataframe tbody tr th {\n",
       "        vertical-align: top;\n",
       "    }\n",
       "\n",
       "    .dataframe thead th {\n",
       "        text-align: right;\n",
       "    }\n",
       "</style>\n",
       "<table border=\"1\" class=\"dataframe\">\n",
       "  <thead>\n",
       "    <tr style=\"text-align: right;\">\n",
       "      <th></th>\n",
       "      <th>station_id</th>\n",
       "      <th>name</th>\n",
       "      <th>address</th>\n",
       "      <th>capacity</th>\n",
       "    </tr>\n",
       "  </thead>\n",
       "  <tbody>\n",
       "    <tr>\n",
       "      <th>0</th>\n",
       "      <td>2</td>\n",
       "      <td>002 - Retiro I</td>\n",
       "      <td>Ramos Mejia, Jose Maria, Dr. Av. &amp; Del Liberta...</td>\n",
       "      <td>20</td>\n",
       "    </tr>\n",
       "    <tr>\n",
       "      <th>1</th>\n",
       "      <td>3</td>\n",
       "      <td>003 - ADUANA</td>\n",
       "      <td>Moreno &amp; Av Paseo Colon</td>\n",
       "      <td>20</td>\n",
       "    </tr>\n",
       "    <tr>\n",
       "      <th>2</th>\n",
       "      <td>4</td>\n",
       "      <td>004 - Plaza Roma</td>\n",
       "      <td>Lavalle &amp; Bouchard</td>\n",
       "      <td>20</td>\n",
       "    </tr>\n",
       "    <tr>\n",
       "      <th>3</th>\n",
       "      <td>5</td>\n",
       "      <td>005 - Plaza Italia</td>\n",
       "      <td>Av. Sarmiento 2601</td>\n",
       "      <td>40</td>\n",
       "    </tr>\n",
       "    <tr>\n",
       "      <th>4</th>\n",
       "      <td>6</td>\n",
       "      <td>006 - Parque Lezama</td>\n",
       "      <td>Avenida Martin Garcia, 295</td>\n",
       "      <td>20</td>\n",
       "    </tr>\n",
       "  </tbody>\n",
       "</table>\n",
       "</div>"
      ],
      "text/plain": [
       "  station_id                 name  \\\n",
       "0          2       002 - Retiro I   \n",
       "1          3         003 - ADUANA   \n",
       "2          4     004 - Plaza Roma   \n",
       "3          5   005 - Plaza Italia   \n",
       "4          6  006 - Parque Lezama   \n",
       "\n",
       "                                             address  capacity  \n",
       "0  Ramos Mejia, Jose Maria, Dr. Av. & Del Liberta...        20  \n",
       "1                            Moreno & Av Paseo Colon        20  \n",
       "2                                 Lavalle & Bouchard        20  \n",
       "3                                 Av. Sarmiento 2601        40  \n",
       "4                         Avenida Martin Garcia, 295        20  "
      ]
     },
     "execution_count": 5,
     "metadata": {},
     "output_type": "execute_result"
    }
   ],
   "source": [
    "# Omitimos algunas columnas de este Dataframe\n",
    "df_stations_info = df_stations_info[[\"station_id\", \"name\", \"address\", \"capacity\"]]\n",
    "df_stations_info.head()"
   ]
  },
  {
   "cell_type": "code",
   "execution_count": 6,
   "metadata": {},
   "outputs": [
    {
     "name": "stdout",
     "output_type": "stream",
     "text": [
      "<class 'pandas.core.frame.DataFrame'>\n",
      "RangeIndex: 379 entries, 0 to 378\n",
      "Data columns (total 4 columns):\n",
      "station_id    379 non-null int64\n",
      "name          379 non-null object\n",
      "address       379 non-null object\n",
      "capacity      379 non-null int64\n",
      "dtypes: int64(2), object(2)\n",
      "memory usage: 12.0+ KB\n"
     ]
    }
   ],
   "source": [
    "df_stations_info['station_id'] = df_stations_info['station_id'].astype('int64')\n",
    "df_stations_info.info()"
   ]
  },
  {
   "cell_type": "code",
   "execution_count": 8,
   "metadata": {},
   "outputs": [],
   "source": [
    "df_stations_info.to_csv('ecobici_info.csv', index=False)"
   ]
  }
 ],
 "metadata": {
  "kernelspec": {
   "display_name": "Python 3.6.10 64-bit ('dataeng': conda)",
   "language": "python",
   "name": "python361064bitdataengcondaa0181e076a444d209a9f2cf069994534"
  },
  "language_info": {
   "codemirror_mode": {
    "name": "ipython",
    "version": 3
   },
   "file_extension": ".py",
   "mimetype": "text/x-python",
   "name": "python",
   "nbconvert_exporter": "python",
   "pygments_lexer": "ipython3",
   "version": "3.6.10"
  }
 },
 "nbformat": 4,
 "nbformat_minor": 4
}
